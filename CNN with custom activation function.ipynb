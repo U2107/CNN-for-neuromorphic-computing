{
 "cells": [
  {
   "cell_type": "markdown",
   "id": "8ecbc1a6",
   "metadata": {},
   "source": [
    "## Training NN on MNIST dataset"
   ]
  },
  {
   "cell_type": "code",
   "execution_count": 23,
   "id": "a0d277ea",
   "metadata": {},
   "outputs": [
    {
     "name": "stdout",
     "output_type": "stream",
     "text": [
      "Model: \"sequential_9\"\n",
      "_________________________________________________________________\n",
      " Layer (type)                Output Shape              Param #   \n",
      "=================================================================\n",
      " conv2d_27 (Conv2D)          (None, 26, 26, 32)        320       \n",
      "                                                                 \n",
      " max_pooling2d_18 (MaxPoolin  (None, 13, 13, 32)       0         \n",
      " g2D)                                                            \n",
      "                                                                 \n",
      " conv2d_28 (Conv2D)          (None, 11, 11, 64)        18496     \n",
      "                                                                 \n",
      " max_pooling2d_19 (MaxPoolin  (None, 5, 5, 64)         0         \n",
      " g2D)                                                            \n",
      "                                                                 \n",
      " conv2d_29 (Conv2D)          (None, 3, 3, 64)          36928     \n",
      "                                                                 \n",
      " flatten_9 (Flatten)         (None, 576)               0         \n",
      "                                                                 \n",
      " dense_18 (Dense)            (None, 64)                36928     \n",
      "                                                                 \n",
      " dense_19 (Dense)            (None, 10)                650       \n",
      "                                                                 \n",
      "=================================================================\n",
      "Total params: 93,322\n",
      "Trainable params: 93,322\n",
      "Non-trainable params: 0\n",
      "_________________________________________________________________\n"
     ]
    }
   ],
   "source": [
    "import tensorflow as tf\n",
    "import numpy as np\n",
    "\n",
    "#adding linear and nonlinear approximation\n",
    "def nonlinearity(x):\n",
    "    return -1.682*x**3 + 2.327*x**2 - 0.3013*x + 0.01053\n",
    "\n",
    "def linearity(x):\n",
    "    return 0.92175494*x - 0.24983058\n",
    "\n",
    "#adding function for choosing linear or nonlinear mode for different input powers\n",
    "def python_function(x):\n",
    "    y = tf.where(x<0.45,nonlinearity(x),linearity(x))\n",
    "    return y\n",
    "\n",
    "# Define custom activation function as a Python function\n",
    "@tf.function\n",
    "def my_activation(x):\n",
    "    return python_function(x)\n",
    "    \n",
    "\n",
    "# Register custom activation function with TensorFlow\n",
    "tf.keras.utils.get_custom_objects()['my_activation'] = my_activation\n",
    "\n",
    "# Load the MNIST dataset\n",
    "(x_train, y_train), (x_test, y_test) = tf.keras.datasets.mnist.load_data()\n",
    "\n",
    "# Normalize pixel values to [0, 1]\n",
    "x_train, x_test = x_train / 255.0, x_test / 255.0\n",
    "\n",
    "# Reshape the input data to a 4D tensor\n",
    "x_train = x_train.reshape(x_train.shape[0], 28, 28, 1)\n",
    "x_test = x_test.reshape(x_test.shape[0], 28, 28, 1)\n",
    "\n",
    "# Define the model architecture\n",
    "model = tf.keras.models.Sequential([\n",
    "    tf.keras.layers.Conv2D(32, (3, 3), activation=my_activation, input_shape=(28, 28, 1)),\n",
    "    tf.keras.layers.MaxPooling2D((2, 2)),\n",
    "    tf.keras.layers.Conv2D(64, (3, 3), activation=my_activation),\n",
    "    tf.keras.layers.MaxPooling2D((2, 2)),\n",
    "    tf.keras.layers.Conv2D(64, (3, 3), activation=my_activation),\n",
    "    tf.keras.layers.Flatten(),\n",
    "    tf.keras.layers.Dense(64, activation=my_activation),\n",
    "    tf.keras.layers.Dense(10)\n",
    "])\n",
    "\n",
    "model.summary()"
   ]
  },
  {
   "cell_type": "code",
   "execution_count": 24,
   "id": "2e93956a",
   "metadata": {},
   "outputs": [
    {
     "name": "stdout",
     "output_type": "stream",
     "text": [
      "Epoch 1/10\n",
      "1875/1875 [==============================] - 139s 73ms/step - loss: 0.1868 - accuracy: 0.9515 - val_loss: 0.0497 - val_accuracy: 0.9836\n",
      "Epoch 2/10\n",
      "1875/1875 [==============================] - 138s 73ms/step - loss: 0.0592 - accuracy: 0.9839 - val_loss: 0.0499 - val_accuracy: 0.9848\n",
      "Epoch 3/10\n",
      "1875/1875 [==============================] - 146s 78ms/step - loss: 0.0449 - accuracy: 0.9871 - val_loss: 0.0433 - val_accuracy: 0.9870\n",
      "Epoch 4/10\n",
      "1875/1875 [==============================] - 169s 90ms/step - loss: 0.0368 - accuracy: 0.9896 - val_loss: 0.0285 - val_accuracy: 0.9908\n",
      "Epoch 5/10\n",
      "1875/1875 [==============================] - 170s 91ms/step - loss: 0.0298 - accuracy: 0.9912 - val_loss: 0.0314 - val_accuracy: 0.9897\n",
      "Epoch 6/10\n",
      "1875/1875 [==============================] - 139s 74ms/step - loss: 0.0273 - accuracy: 0.9921 - val_loss: 0.0332 - val_accuracy: 0.9913\n",
      "Epoch 7/10\n",
      "1875/1875 [==============================] - 154s 82ms/step - loss: 0.0223 - accuracy: 0.9933 - val_loss: 0.0281 - val_accuracy: 0.9916\n",
      "Epoch 8/10\n",
      "1875/1875 [==============================] - 173s 92ms/step - loss: 0.0212 - accuracy: 0.9936 - val_loss: 0.0367 - val_accuracy: 0.9907\n",
      "Epoch 9/10\n",
      "1875/1875 [==============================] - 187s 100ms/step - loss: 0.0179 - accuracy: 0.9942 - val_loss: 0.0326 - val_accuracy: 0.9895\n",
      "Epoch 10/10\n",
      "1875/1875 [==============================] - 130s 69ms/step - loss: 0.0168 - accuracy: 0.9950 - val_loss: 0.0273 - val_accuracy: 0.9917\n"
     ]
    }
   ],
   "source": [
    "model.compile(optimizer='adam',\n",
    "              loss=tf.keras.losses.SparseCategoricalCrossentropy(from_logits=True),\n",
    "              metrics=['accuracy'])\n",
    "\n",
    "history = model.fit(x_train, y_train, epochs=10, \n",
    "                    validation_data=(x_test, y_test))"
   ]
  }
 ],
 "metadata": {
  "kernelspec": {
   "display_name": "Python 3 (ipykernel)",
   "language": "python",
   "name": "python3"
  },
  "language_info": {
   "codemirror_mode": {
    "name": "ipython",
    "version": 3
   },
   "file_extension": ".py",
   "mimetype": "text/x-python",
   "name": "python",
   "nbconvert_exporter": "python",
   "pygments_lexer": "ipython3",
   "version": "3.9.7"
  }
 },
 "nbformat": 4,
 "nbformat_minor": 5
}
